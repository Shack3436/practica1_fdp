{
  "nbformat": 4,
  "nbformat_minor": 0,
  "metadata": {
    "colab": {
      "name": "Clase 6.ipynb",
      "provenance": [],
      "collapsed_sections": [],
      "include_colab_link": true
    },
    "kernelspec": {
      "name": "python3",
      "display_name": "Python 3"
    }
  },
  "cells": [
    {
      "cell_type": "markdown",
      "metadata": {
        "id": "view-in-github",
        "colab_type": "text"
      },
      "source": [
        "<a href=\"https://colab.research.google.com/github/Shack3436/practica1_fdp/blob/master/Clase_6.ipynb\" target=\"_parent\"><img src=\"https://colab.research.google.com/assets/colab-badge.svg\" alt=\"Open In Colab\"/></a>"
      ]
    },
    {
      "cell_type": "markdown",
      "metadata": {
        "id": "dtY3xBmr7Csi"
      },
      "source": [
        "# Programación con Python - Clase 6\n",
        "\n",
        "_Instructor: Ulises Ramírez Carmona_\n",
        "\n",
        "## Objetivo\n",
        "\n",
        "La finalidad de esta clase es conocer la sintaxias de las funciones, así como introducir una estructura estándar de programación.\n",
        "\n",
        "## Funciones\n",
        "La palabra reservada **def** se usa para definir funciones. Debe seguirle el nombre de la función y la lista de parámetros\n",
        "formales entre paréntesis. Las sentencias que forman el cuerpo de la función empiezan en la línea siguiente, y deben estar\n",
        "con sangría. Sirven para realizar un conjunto de operaciones de forma aislada y permite que un programa grande se segmente  en programas pequeños (subrutinas). Para mandar a llamar una función se utiliza la sintaxis **función()**. \n",
        "\n",
        "### Ejemplos\n",
        "\n",
        "1. Escriba una función que escriba \"¡Hola mundo!\".\n",
        "1. Escriba una función que sume dos números.\n",
        "1. Escriba una función que multiplique dos números.\n",
        "1. Escriba una función que imprima los primeros $n$ números naturales, donde $n$ se especifica por el usuario. "
      ]
    },
    {
      "cell_type": "code",
      "metadata": {
        "id": "P0H6N1_3tlX0"
      },
      "source": [
        "import numpy as np\r\n",
        "import matpltlib.pyplot as plt\r\n",
        "\r\n",
        "def f(x):\r\n",
        "  return np.e**x+np.cos(x)+x**3+10"
      ],
      "execution_count": null,
      "outputs": []
    },
    {
      "cell_type": "code",
      "metadata": {
        "id": "1GUUwY9L6--q",
        "colab": {
          "base_uri": "https://localhost:8080/"
        },
        "outputId": "a92377df-5511-47cb-a961-f440358e71cc"
      },
      "source": [
        "# Función 1\n",
        "\n",
        "#Función que imprime \"Hola mundo\"\n",
        "def holaMundo():\n",
        "  print(\"Hola mundo\")\n",
        "\n",
        "holaMundo()"
      ],
      "execution_count": null,
      "outputs": [
        {
          "output_type": "stream",
          "text": [
            "Hola mundo\n"
          ],
          "name": "stdout"
        }
      ]
    },
    {
      "cell_type": "code",
      "metadata": {
        "colab": {
          "base_uri": "https://localhost:8080/"
        },
        "id": "EvEhU-x8Ul67",
        "outputId": "668a8fcc-9b9f-4846-d24b-00e4df401797"
      },
      "source": [
        "# Función 2\n",
        "\n",
        "#Función que suma dos números\n",
        "def suma(a,b):\n",
        "  return a+b\n",
        "\n",
        "print(suma(7,2))\n",
        "print(suma(4,2))"
      ],
      "execution_count": null,
      "outputs": [
        {
          "output_type": "stream",
          "text": [
            "9\n",
            "6\n"
          ],
          "name": "stdout"
        }
      ]
    },
    {
      "cell_type": "code",
      "metadata": {
        "colab": {
          "base_uri": "https://localhost:8080/"
        },
        "id": "tGcwSrO1WNYj",
        "outputId": "1b54578a-e1f1-44c0-ee4f-d5b849321c66"
      },
      "source": [
        "# Función 3\n",
        "\n",
        "#Función que multiplica dos números\n",
        "def mult(a,b):\n",
        "  return a*b\n",
        "\n",
        "print(mult(7,2))\n",
        "print(mult(4,2))"
      ],
      "execution_count": null,
      "outputs": [
        {
          "output_type": "stream",
          "text": [
            "14\n",
            "8\n"
          ],
          "name": "stdout"
        }
      ]
    },
    {
      "cell_type": "code",
      "metadata": {
        "colab": {
          "base_uri": "https://localhost:8080/"
        },
        "id": "4A2F5FDdWqNb",
        "outputId": "125fdae9-2a2a-4e1b-ab95-1ff80a2db1e1"
      },
      "source": [
        "# Función 4\n",
        "\n",
        "#Función que imprime n números naturales\n",
        "def naturales(n):\n",
        "  for i in range(n):\n",
        "    print(i+1)\n",
        "\n",
        "naturales(10)"
      ],
      "execution_count": null,
      "outputs": [
        {
          "output_type": "stream",
          "text": [
            "1\n",
            "2\n",
            "3\n",
            "4\n",
            "5\n",
            "6\n",
            "7\n",
            "8\n",
            "9\n",
            "10\n"
          ],
          "name": "stdout"
        }
      ]
    },
    {
      "cell_type": "code",
      "metadata": {
        "colab": {
          "base_uri": "https://localhost:8080/"
        },
        "id": "D7hH5dg7XHWl",
        "outputId": "a26b8fa8-b708-4773-9c12-775eb8524590"
      },
      "source": [
        "# Función 5\n",
        "\n",
        "#Función que imprime n números naturales\n",
        "def naturales():\n",
        "  n=int(input(\"¿Cuántos naturales quieres que imprima?: \"))\n",
        "  for i in range(n):\n",
        "    print(i+1)\n",
        "\n",
        "naturales()\n",
        "naturales()"
      ],
      "execution_count": null,
      "outputs": [
        {
          "output_type": "stream",
          "text": [
            "¿Cuántos naturales quieres que imprima: 5\n",
            "1\n",
            "2\n",
            "3\n",
            "4\n",
            "5\n",
            "¿Cuántos naturales quieres que imprima: 7\n",
            "1\n",
            "2\n",
            "3\n",
            "4\n",
            "5\n",
            "6\n",
            "7\n"
          ],
          "name": "stdout"
        }
      ]
    },
    {
      "cell_type": "markdown",
      "metadata": {
        "id": "d_Wk39QsYToX"
      },
      "source": [
        "Se pueden escribir muchas funciones en un mismo programa y solamente se utilizarán las funciones que sean llamadas en el código."
      ]
    },
    {
      "cell_type": "code",
      "metadata": {
        "colab": {
          "base_uri": "https://localhost:8080/"
        },
        "id": "Xmp9GBGzX0PH",
        "outputId": "d678bf26-4924-4e42-98e3-bd30af4edad6"
      },
      "source": [
        "# Muchas funciones\n",
        "\n",
        "#Función que imprime \"Hola mundo\"\n",
        "def holaMundo():\n",
        "  print(\"Hola mundo\")\n",
        "\n",
        "#Función que suma dos números\n",
        "def suma(a,b):\n",
        "  return a+b\n",
        "\n",
        "#Función que multiplica dos números\n",
        "def mult(a,b):\n",
        "  return a*b\n",
        "\n",
        "#Función que imprime n números naturales\n",
        "def naturales():\n",
        "  n=int(input(\"¿Cuántos naturales quieres que imprima?: \"))\n",
        "  for i in range(n):\n",
        "    print(i+1)\n",
        "\n",
        "naturales()\n",
        "print(suma(1,3))\n",
        "holaMundo()\n"
      ],
      "execution_count": null,
      "outputs": [
        {
          "output_type": "stream",
          "text": [
            "¿Cuántos naturales quieres que imprima?: 10\n",
            "1\n",
            "2\n",
            "3\n",
            "4\n",
            "5\n",
            "6\n",
            "7\n",
            "8\n",
            "9\n",
            "10\n",
            "4\n",
            "Hola mundo\n"
          ],
          "name": "stdout"
        }
      ]
    },
    {
      "cell_type": "markdown",
      "metadata": {
        "id": "pBY-ficcaKQp"
      },
      "source": [
        "## Función main()\n",
        "\n",
        "Es recomendable que todos los programas que se realicen en Python (al igual que en cualquier lenguaje de programación) contenga una función principal, conocida como **main()**, cuya sintaxis se muestra a continuación:"
      ]
    },
    {
      "cell_type": "code",
      "metadata": {
        "colab": {
          "base_uri": "https://localhost:8080/"
        },
        "id": "xB05xea5Y5Ql",
        "outputId": "a004660f-432e-4f1c-84c5-eb2f95fc47b5"
      },
      "source": [
        "#Hola mundo con función main()\n",
        "\n",
        "def main():\n",
        "  print(\"Hola Mundo :)\")\n",
        "\n",
        "if __name__ == \"__main__\":\n",
        "  main()"
      ],
      "execution_count": null,
      "outputs": [
        {
          "output_type": "stream",
          "text": [
            "Hola Mundo :)\n"
          ],
          "name": "stdout"
        }
      ]
    },
    {
      "cell_type": "markdown",
      "metadata": {
        "id": "qfIavtQuccva"
      },
      "source": [
        "Como se puede apreciar, el funcionamiento del programa anterior y el del \"Hola mundo\" sencillo que se realizó anteriormente es idéntico. Sin embargo, esto permite que el código pueda ser reutilizado en distintos programas.\n",
        "\n",
        "En Python, existe una variable especial que tiene el nombre $__name__$ y al inicio toma el valor $\"__main__\"$. Es por ello que en el programa se utiliza su valor mediante un condicional y manda a llamar la función **main()**. Lo anterior permite decidir qué funciones se van a ejecuta y tener una estructura de código más fácil de leer y de reutilizar."
      ]
    },
    {
      "cell_type": "markdown",
      "metadata": {
        "id": "NlQjhrDYdbMR"
      },
      "source": [
        "## Ejercicios\n",
        "\n",
        "Realice el siguiente ejercicio, pero en esta ocasión empleando funciones e incluyendo la función main():\n",
        "\n",
        "Escriba un programa que muestre un menú de selección que incluya las operaciones básicas (suma, resta, multiplicación, división y potencia) y también la impresión de los números primos que desee el usuario como se realizó anteriormente. El usuario debe ser capaz de seleccionar alguna de éstas y realizar la operación de su interés. "
      ]
    },
    {
      "cell_type": "code",
      "metadata": {
        "colab": {
          "base_uri": "https://localhost:8080/"
        },
        "id": "1xs36_UPby30",
        "outputId": "f4c6c6ba-40de-42da-85d2-7849f259a236"
      },
      "source": [
        "############ Calculadora básica ############\n",
        "\n",
        "############ Definición de funciones ############\n",
        "\n",
        "#Función que suma\n",
        "def suma():\n",
        "  print(\"\\n****Suma de dos números****\")\n",
        "  num1=float(input(\"Dame el primer número: \"))\n",
        "  num2=float(input(\"Dame el segundo número: \"))\n",
        "  print(f\"La suma es: {num1+num2}\")\n",
        "\n",
        "#Función que resta\n",
        "def resta():\n",
        "  print(\"\\n****Resta de dos números****\")\n",
        "  num1=float(input(\"Dame el primer número: \"))\n",
        "  num2=float(input(\"Dame el segundo número: \"))\n",
        "  print(f\"La resta es: {num1-num2}\")\n",
        "\n",
        "#Función que multiplica\n",
        "def mult():\n",
        "  print(\"\\n****Multiplicación de dos números****\")\n",
        "  num1=float(input(\"Dame el primer número: \"))\n",
        "  num2=float(input(\"Dame el segundo número: \"))\n",
        "  print(f\"El producto es: {num1*num2}\")\n",
        "\n",
        "#Función que divide\n",
        "def divi():\n",
        "  print(\"\\n****División de dos números****\")\n",
        "  num1=float(input(\"Dame el primer número: \"))\n",
        "  num2=float(input(\"Dame el segundo número: \"))\n",
        "  print(f\"El cociente es: {num1/num2}\")\n",
        "\n",
        "#Función que eleva un número a alguna potencia\n",
        "def potencia():\n",
        "  print(\"\\n****Potencia de un número****\")\n",
        "  num1=float(input(\"Dame la base: \"))\n",
        "  num2=float(input(\"Dame el exponente: \"))\n",
        "  print(f\"{num1}^{num2}: {num1**num2}\")\n",
        "\n",
        "############ función principal ############\n",
        "def main():\n",
        "  #Calculadora básica\n",
        "  opcion = input(\"\"\"*********Selecciona una opción del menú*********\n",
        "  \n",
        "  1. Suma\n",
        "  2. Resta\n",
        "  3. Multiplicación\n",
        "  4. División\n",
        "  5. Potencia\n",
        "\n",
        "  Opción: \"\"\")\n",
        "\n",
        "  if opcion == \"1\":\n",
        "    suma()\n",
        "  elif opcion == \"2\":\n",
        "    resta()\n",
        "  elif opcion == \"3\":\n",
        "    mult()\n",
        "  elif opcion == \"4\":\n",
        "    divi()\n",
        "  elif opcion == \"5\":\n",
        "    potencia()\n",
        "\n",
        "############ Ejecución del main ############\n",
        "if __name__ == \"__main__\":\n",
        "  main()\n"
      ],
      "execution_count": null,
      "outputs": [
        {
          "output_type": "stream",
          "text": [
            "*********Selecciona una opción del menú*********\n",
            "  \n",
            "  1. Suma\n",
            "  2. Resta\n",
            "  3. Multiplicación\n",
            "  4. División\n",
            "  5. Potencia\n",
            "\n",
            "  Opción: 1\n",
            "\n",
            "****Suma de dos números****\n",
            "Dame el primer número: 10\n",
            "Dame el segundo número: 7\n",
            "La suma es: 17.0\n"
          ],
          "name": "stdout"
        }
      ]
    },
    {
      "cell_type": "code",
      "metadata": {
        "id": "PskG976TeuY2"
      },
      "source": [
        ""
      ],
      "execution_count": null,
      "outputs": []
    }
  ]
}